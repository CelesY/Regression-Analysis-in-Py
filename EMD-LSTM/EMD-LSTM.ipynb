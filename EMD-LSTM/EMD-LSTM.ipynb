{
 "cells": [
  {
   "cell_type": "markdown",
   "id": "3e635db7-c686-4129-8948-4fbf2061a8d7",
   "metadata": {},
   "source": [
    "# Intro"
   ]
  },
  {
   "cell_type": "markdown",
   "id": "3f4e81d2-9f13-4e51-9405-fd105c35d39e",
   "metadata": {},
   "source": [
    "运用EMD-LSTM对股价波动率进行预测，进而对VaR值进行估计预测\n",
    "\n",
    "在波动率预测方面，使用传统GARCH模型，单一LSTM模型与EMD-LSTM进行比对；\n",
    "\n",
    "在VaR度量方面，使用GARCH模型对结果进行比较，Kupiec检验进行验证。"
   ]
  },
  {
   "cell_type": "markdown",
   "id": "f651f46d-f811-480b-80b6-1042c97ecfc4",
   "metadata": {},
   "source": [
    "# Preperations"
   ]
  },
  {
   "cell_type": "code",
   "execution_count": null,
   "id": "b82fcee0-548a-4e0e-9b9f-9c01cb7b2ea3",
   "metadata": {},
   "outputs": [],
   "source": [
    "import pandas as pd\n",
    "import numpy as np\n",
    "\n",
    "from datetime import datetime, timedelta\n",
    "from scipy.stats import binom, chi2\n",
    "from arch import arch_model\n",
    "from arch.unitroot import ADF\n",
    "from arch.unitroot import engle_granger\n",
    "from sktime.forecasting.model_selection import ExpandingWindowSplitter\n",
    "from sktime.forecasting.model_evaluation import evaluate\n",
    "from sktime.forecasting.arima import ARIMA\n",
    "from arch.univariate import ARCH, GARCH\n",
    "\n",
    "from pylab import mpl\n",
    "import matplotlib.pyplot as plt\n",
    "import matplotlib.dates as mdates\n",
    "from matplotlib.ticker import MultipleLocator\n",
    "import warnings\n",
    "warnings.simplefilter(action='ignore', category= FutureWarning)\n",
    "mpl.rcParams['font.sans-serif']=[\"SimSun\"]"
   ]
  },
  {
   "cell_type": "code",
   "execution_count": null,
   "id": "dfaaf434-2cb5-4493-810c-ab7252ef60c9",
   "metadata": {},
   "outputs": [],
   "source": [
    "from PyEMD import EMD\n",
    "\n",
    "import tensorflow as tf\n",
    "from tensorflow.keras.models import Sequential\n",
    "from tensorflow.keras.layers import LSTM, Dense\n",
    "from tensorflow.keras.losses import mean_squared_error, mean_absolute_error\n",
    "from tensorflow.keras.optimizers import Adam\n",
    "from keras.regularizers import l2\n",
    "\n",
    "from sklearn.model_selection import train_test_split"
   ]
  },
  {
   "cell_type": "markdown",
   "id": "31779647-43d5-440f-aae3-284be55f35de",
   "metadata": {},
   "source": [
    "## Import Data"
   ]
  },
  {
   "cell_type": "code",
   "execution_count": null,
   "id": "39439250-fb36-46a5-bfc3-9d7331da7597",
   "metadata": {},
   "outputs": [],
   "source": [
    "path_file='...'"
   ]
  },
  {
   "cell_type": "code",
   "execution_count": null,
   "id": "1b688515-2e88-4094-92e9-84e1db777082",
   "metadata": {},
   "outputs": [],
   "source": [
    "li = pd.read_csv('LI.csv', usecols=lambda col: col != 'Datetime')"
   ]
  },
  {
   "cell_type": "markdown",
   "id": "0d15b89f-7efe-4974-b851-5a8f0fc0a5b8",
   "metadata": {},
   "source": [
    "## Log returns and Concatenate"
   ]
  },
  {
   "cell_type": "code",
   "execution_count": null,
   "id": "9dd85afc-2d2d-40af-8401-edd851db2a2c",
   "metadata": {},
   "outputs": [],
   "source": [
    "mean = li['Close'].pct_change().mean()\n",
    "li['return'] = li['Close'].pct_change().apply(lambda x: mean if pd.isna(x) else round(np.log(1 + x), 6))"
   ]
  },
  {
   "cell_type": "code",
   "execution_count": null,
   "id": "885b55bb-cbeb-4a76-a220-27a110d016c9",
   "metadata": {},
   "outputs": [],
   "source": [
    "li.head()"
   ]
  },
  {
   "cell_type": "markdown",
   "id": "5b4cb07c-2201-4f00-bf19-dddc3b27ba32",
   "metadata": {},
   "source": [
    "## Realized Volatilities"
   ]
  },
  {
   "cell_type": "code",
   "execution_count": null,
   "id": "e243e379-16a4-4d99-b232-94cf46604ede",
   "metadata": {},
   "outputs": [],
   "source": [
    "window_size = 5\n",
    "li = li.astype(float)\n",
    "# 计算历史波动率\n",
    "li['rv'] = li.iloc[:, 2].rolling(window=window_size).std()\n",
    "li['rv'] = li['rv']"
   ]
  },
  {
   "cell_type": "code",
   "execution_count": null,
   "id": "30ad9a4e-59d3-48e7-9fb1-accb29ee96c7",
   "metadata": {},
   "outputs": [],
   "source": [
    "li['rv'].fillna(li['rv'].mean(), inplace=True)"
   ]
  },
  {
   "cell_type": "code",
   "execution_count": null,
   "id": "b3004289-f72e-4da7-b9bd-bb99d028558c",
   "metadata": {},
   "outputs": [],
   "source": [
    "li.head()"
   ]
  },
  {
   "cell_type": "code",
   "execution_count": null,
   "id": "f523d5d3-4f82-4be9-9252-17e7ef1eb127",
   "metadata": {},
   "outputs": [],
   "source": [
    "plt.figure(figsize=(15, 6))\n",
    "plt.plot(li['return'], label='Log Return')\n",
    "plt.xlabel('Date')\n",
    "plt.ylabel('Return')\n",
    "plt.title('Log Return over Time')\n",
    "plt.legend()\n",
    "plt.show()"
   ]
  },
  {
   "cell_type": "code",
   "execution_count": null,
   "id": "f698c6a2-7eff-4a67-aa05-b6acaa439755",
   "metadata": {},
   "outputs": [],
   "source": [
    "plt.figure(figsize=(15, 6))\n",
    "plt.plot( li['rv'], label='Realized Volatility')\n",
    "plt.xlabel('Date')\n",
    "plt.ylabel('Volatility')\n",
    "plt.title('Realized Volatility over Time')\n",
    "plt.legend()\n",
    "plt.show()"
   ]
  },
  {
   "cell_type": "markdown",
   "id": "9ffc8cf5-7e23-43aa-a355-4df6b37f1c41",
   "metadata": {},
   "source": [
    "# EMD-LSTM"
   ]
  },
  {
   "cell_type": "markdown",
   "id": "59004c03-31df-480b-8a5f-a9993d8efd32",
   "metadata": {},
   "source": [
    "## EMD"
   ]
  },
  {
   "cell_type": "code",
   "execution_count": null,
   "id": "6e3b5a4b-8f37-42c8-b7cb-8cda7675ee6b",
   "metadata": {
    "scrolled": true
   },
   "outputs": [],
   "source": [
    "emd = EMD(n_imfs=7)\n",
    "rv=np.array(li['rv'].tolist())\n",
    "imfs = emd(rv)\n",
    "residue = emd.residue"
   ]
  },
  {
   "cell_type": "code",
   "execution_count": null,
   "id": "262a3a08-59d3-465c-98fa-c5f499fb5365",
   "metadata": {},
   "outputs": [],
   "source": [
    "fig, axs = plt.subplots(nrows=8, ncols=1, figsize=(15, 10), sharex=True)\n",
    "\n",
    "# 绘制 IMFs\n",
    "for i, imf in enumerate(imfs[:7]):  # 限制绘制的 IMFs 数量为 7\n",
    "    axs[i].plot(imf, label=f'IMF {i+1}')\n",
    "    axs[i].set_ylabel('')  # 设置纵轴标签为空字符串\n",
    "    axs[i].legend(fontsize='large')\n",
    "\n",
    "# 绘制残差\n",
    "axs[7].plot(residue, label='残差')\n",
    "axs[7].set_ylabel('')\n",
    "axs[7].legend()\n",
    "axs[7].legend(fontsize='large')\n",
    "# 设置 x 轴标签\n",
    "axs[7].set_xlabel('日期序列')\n",
    "\n",
    "plt.tight_layout()\n",
    "plt.show()"
   ]
  },
  {
   "cell_type": "code",
   "execution_count": null,
   "id": "e616edc9-1d28-44b0-80a5-8fdca8de9b82",
   "metadata": {},
   "outputs": [],
   "source": [
    "imfs = imfs[:7]"
   ]
  },
  {
   "cell_type": "code",
   "execution_count": null,
   "id": "0de33dc3-0517-4841-92eb-da2d8e7bd726",
   "metadata": {
    "scrolled": true
   },
   "outputs": [],
   "source": [
    "imfs = pd.DataFrame(imfs.T, columns=[f'IMF_{i+1}' for i in range(7)])\n",
    "residue = pd.DataFrame(residue, columns=['Residue'])"
   ]
  },
  {
   "cell_type": "code",
   "execution_count": null,
   "id": "5a432d5f-4e94-436c-bc7c-d3734f968c37",
   "metadata": {
    "scrolled": true
   },
   "outputs": [],
   "source": [
    "df = pd.concat([imfs, residue], axis=1)\n",
    "df.head()"
   ]
  },
  {
   "cell_type": "markdown",
   "id": "4f5c4321-004b-486d-a71b-1b162650ac4b",
   "metadata": {},
   "source": [
    "## LSTM"
   ]
  },
  {
   "cell_type": "code",
   "execution_count": null,
   "id": "a138a4f3-804b-46e4-bec0-e02fc49fe15d",
   "metadata": {},
   "outputs": [],
   "source": [
    "def get_imf(train_imfs, index):\n",
    "    \"\"\"\n",
    "    获取指定 IMF 数据列\n",
    "\n",
    "    train_imfs: DataFrame，包含 IMF 数据的 DataFrame\n",
    "    index: int，IMF 编号\n",
    "    \n",
    "    返回：\n",
    "    IMF 数据列\n",
    "    \"\"\"\n",
    "    imf_column_name = f'IMF_{index}'\n",
    "    return train_imfs[imf_column_name]"
   ]
  },
  {
   "cell_type": "markdown",
   "id": "be62a997-4da5-4dbf-8286-51351c2e5485",
   "metadata": {},
   "source": [
    "### Spliting dataset"
   ]
  },
  {
   "cell_type": "code",
   "execution_count": null,
   "id": "e3d6e8eb-d4cf-4c9e-a2af-a991830bc496",
   "metadata": {},
   "outputs": [],
   "source": [
    "train_imfs, test_imfs = train_test_split(imfs, test_size=0.2, shuffle=False)\n",
    "train_residue, test_residue = train_test_split(residue, test_size=0.2, shuffle=False)"
   ]
  },
  {
   "cell_type": "code",
   "execution_count": null,
   "id": "cf7ca46f-5b8c-4bee-b083-94df274a6e59",
   "metadata": {},
   "outputs": [],
   "source": [
    "train_imfs.shape"
   ]
  },
  {
   "cell_type": "code",
   "execution_count": null,
   "id": "c5d78ff1-889c-4002-a343-721a4676af23",
   "metadata": {},
   "outputs": [],
   "source": [
    "test_imfs.shape"
   ]
  },
  {
   "cell_type": "code",
   "execution_count": null,
   "id": "668d39e3-83fd-4bb8-8467-eb93a4756075",
   "metadata": {},
   "outputs": [],
   "source": [
    "imf1 = get_imf(train_imfs, 1)\n",
    "plt.figure(figsize=(15, 5))\n",
    "\n",
    "plt.plot(np.arange(len(imf1)), imf1, color='blue', label='训练目标')\n",
    "\n",
    "# 绘制测试目标\n",
    "plt.plot(np.arange(len(train_imfs), len(train_imfs) + len(test_imfs)),\n",
    "         test_imfs['IMF_1'], color='black', label='测试目标')\n",
    "\n",
    "plt.title('IMF_1 数据划分情况', fontsize=20)\n",
    "plt.xlabel('时间', fontsize=15)\n",
    "plt.legend(loc='best')\n",
    "\n",
    "# 设置 x 轴刻度间隔\n",
    "locator = MultipleLocator(1000)\n",
    "plt.gca().xaxis.set_major_locator(locator)\n",
    "plt.show()"
   ]
  },
  {
   "cell_type": "markdown",
   "id": "0ebc9499-270c-42d8-81b4-20251f107b1f",
   "metadata": {},
   "source": [
    "### Model training"
   ]
  },
  {
   "cell_type": "code",
   "execution_count": null,
   "id": "e95af72b-0a92-462a-bdef-9daa52bd2fd2",
   "metadata": {},
   "outputs": [],
   "source": [
    "model = Sequential()\n",
    "\n",
    "# 添加LSTM层\n",
    "model.add(LSTM(units=4, input_shape=(10, 1)))\n",
    "\n",
    "# 添加一层线性网络得到最终输出\n",
    "model.add(Dense(units=1, kernel_regularizer=l2(0.01)))  # 加入L2正则化\n",
    "\n",
    "# 编译模型\n",
    "optimizer = Adam()\n",
    "model.compile(optimizer=optimizer, loss='mse')  # 使用均方误差作为损失函数\n",
    "\n",
    "# 输出模型结构\n",
    "model.summary()"
   ]
  },
  {
   "cell_type": "markdown",
   "id": "06e6b03b-f0bf-4ceb-9603-54304489b9c6",
   "metadata": {},
   "source": [
    "#### IMF1"
   ]
  },
  {
   "cell_type": "code",
   "execution_count": null,
   "id": "ffb0f680-f758-4024-9023-6a8a1df455d6",
   "metadata": {},
   "outputs": [],
   "source": [
    "imf1 = get_imf(train_imfs, 1)\n",
    "imf1_test= get_imf(test_imfs, 1)"
   ]
  },
  {
   "cell_type": "code",
   "execution_count": null,
   "id": "8aa0326b-1af9-40a2-b299-86bf0577d7b0",
   "metadata": {
    "scrolled": true
   },
   "outputs": [],
   "source": [
    "imf1_his=model.fit(imf1, np.roll(imf1, -1), epochs=100, batch_size=128)"
   ]
  },
  {
   "cell_type": "code",
   "execution_count": null,
   "id": "8b052e21-0044-47f2-925b-e5c8ddbd01a0",
   "metadata": {},
   "outputs": [],
   "source": [
    "imf1_pred= model.predict(imf1_test)"
   ]
  },
  {
   "cell_type": "code",
   "execution_count": null,
   "id": "b4b04730-6dab-41a8-a2bd-f2f02da9de81",
   "metadata": {},
   "outputs": [],
   "source": [
    "loss_1 = imf1_his.history['loss']\n",
    "# 绘制训练曲线\n",
    "plt.plot(loss_1, label='Training Loss')\n",
    "plt.xlabel('Epochs')\n",
    "plt.ylabel('Loss')\n",
    "plt.legend()\n",
    "plt.show()"
   ]
  },
  {
   "cell_type": "code",
   "execution_count": null,
   "id": "5b06a08a-f0a7-475f-af11-4c3721e53eff",
   "metadata": {},
   "outputs": [],
   "source": [
    "rmse1 = np.sqrt(mean_squared_error(imf1_test, imf1_pred))\n",
    "mae1 = mean_absolute_error(imf1_test, imf1_pred)\n",
    "\n",
    "# 输出评估指标\n",
    "print(\"RMSE:\", rmse1)\n",
    "print(\"MAE:\", mae1)"
   ]
  },
  {
   "cell_type": "markdown",
   "id": "ecfbc783-fa00-4bb6-9ca0-b9aa6b4ff36d",
   "metadata": {},
   "source": [
    "#### IMF2"
   ]
  },
  {
   "cell_type": "code",
   "execution_count": null,
   "id": "31f0dda8-12e8-469b-b30b-b1b7a70efd54",
   "metadata": {},
   "outputs": [],
   "source": [
    "imf2 = get_imf(train_imfs, 2)\n",
    "imf2_test = get_imf(test_imfs, 2)"
   ]
  },
  {
   "cell_type": "code",
   "execution_count": null,
   "id": "3ad40eba-6548-4aa4-9f73-421e34783d60",
   "metadata": {
    "scrolled": true
   },
   "outputs": [],
   "source": [
    "imf2_his=model.fit(imf2, np.roll(imf2, -1), epochs=100, batch_size=128)"
   ]
  },
  {
   "cell_type": "code",
   "execution_count": null,
   "id": "041dcb7b-f163-423d-b347-6cce5a9d5543",
   "metadata": {},
   "outputs": [],
   "source": [
    "imf2_pred= model.predict(imf2_test)"
   ]
  },
  {
   "cell_type": "code",
   "execution_count": null,
   "id": "71ec8dc9-c373-4c0c-bf29-17ee334d2b19",
   "metadata": {
    "scrolled": true
   },
   "outputs": [],
   "source": [
    "loss_2 = imf2_his.history['loss']\n",
    "# 绘制训练曲线\n",
    "plt.plot(loss_2, label='Training Loss')\n",
    "plt.xlabel('Epochs')\n",
    "plt.ylabel('Loss')\n",
    "plt.legend()\n",
    "plt.show()"
   ]
  },
  {
   "cell_type": "code",
   "execution_count": null,
   "id": "37050bdd-b0f9-4f25-b718-94193d6ddbbc",
   "metadata": {},
   "outputs": [],
   "source": [
    "rmse2 = np.sqrt(mean_squared_error(imf2_test, imf2_pred))\n",
    "mae2 = mean_absolute_error(imf2_test, imf2_pred)\n",
    "\n",
    "# 输出评估指标\n",
    "print(\"RMSE:\", rmse2)\n",
    "print(\"MAE:\", mae2)"
   ]
  },
  {
   "cell_type": "markdown",
   "id": "6e5d80dd-386f-4d38-a620-0b9fe30873d6",
   "metadata": {},
   "source": [
    "#### IMF3"
   ]
  },
  {
   "cell_type": "code",
   "execution_count": null,
   "id": "9815d45a-65b1-4c05-a3b9-f022e21ee121",
   "metadata": {},
   "outputs": [],
   "source": [
    "imf3 = get_imf(train_imfs, 3)\n",
    "imf3_test = get_imf(test_imfs, 3)"
   ]
  },
  {
   "cell_type": "code",
   "execution_count": null,
   "id": "e335b1a1-574c-4b34-9775-c7955399e0d4",
   "metadata": {
    "scrolled": true
   },
   "outputs": [],
   "source": [
    "imf3_his=model.fit(imf3, np.roll(imf3, -1), epochs=100, batch_size=128)"
   ]
  },
  {
   "cell_type": "code",
   "execution_count": null,
   "id": "9c036fa4-e61c-4038-bfc3-96a01f9e0929",
   "metadata": {},
   "outputs": [],
   "source": [
    "imf3_pred= model.predict(imf3_test)"
   ]
  },
  {
   "cell_type": "code",
   "execution_count": null,
   "id": "b86691cc-bf2a-4e5c-aa0b-8ecaa67c98a6",
   "metadata": {
    "scrolled": true
   },
   "outputs": [],
   "source": [
    "loss_3 = imf3_his.history['loss']\n",
    "# 绘制训练曲线\n",
    "plt.plot(loss_3, label='Training Loss')\n",
    "plt.xlabel('Epochs')\n",
    "plt.ylabel('Loss')\n",
    "plt.legend()\n",
    "plt.show()"
   ]
  },
  {
   "cell_type": "code",
   "execution_count": null,
   "id": "b1f2f6b9-8a30-4deb-a279-ed50dd6e7694",
   "metadata": {},
   "outputs": [],
   "source": [
    "rmse3 = np.sqrt(mean_squared_error(imf3_test, imf3_pred))\n",
    "mae3 = mean_absolute_error(imf3_test, imf3_pred)\n",
    "\n",
    "# 输出评估指标\n",
    "print(\"RMSE:\", rmse3)\n",
    "print(\"MAE:\", mae3)"
   ]
  },
  {
   "cell_type": "markdown",
   "id": "7f175a3a-fad9-40ee-9d05-25abfa1be963",
   "metadata": {},
   "source": [
    "#### IMF4"
   ]
  },
  {
   "cell_type": "code",
   "execution_count": null,
   "id": "144a69c8-52e4-4294-a0bc-39c78475ed7a",
   "metadata": {},
   "outputs": [],
   "source": [
    "imf4 = get_imf(train_imfs, 4)\n",
    "imf4_test = get_imf(test_imfs, 4)"
   ]
  },
  {
   "cell_type": "code",
   "execution_count": null,
   "id": "7383707e-23e7-4148-85d0-3828c2f2e6f1",
   "metadata": {
    "scrolled": true
   },
   "outputs": [],
   "source": [
    "imf4_his=model.fit(imf4, np.roll(imf4, -1), epochs=100, batch_size=128)"
   ]
  },
  {
   "cell_type": "code",
   "execution_count": null,
   "id": "46347d45-e4a4-4800-96ff-a1f2073f0357",
   "metadata": {},
   "outputs": [],
   "source": [
    "imf4_pred= model.predict(imf4_test)"
   ]
  },
  {
   "cell_type": "code",
   "execution_count": null,
   "id": "8c55afa4-e10b-4acb-a8d1-e25aabe4585e",
   "metadata": {},
   "outputs": [],
   "source": [
    "loss_4 = imf4_his.history['loss']\n",
    "# 绘制训练曲线\n",
    "plt.plot(loss_4, label='Training Loss')\n",
    "plt.xlabel('Epochs')\n",
    "plt.ylabel('Loss')\n",
    "plt.legend()\n",
    "plt.show()"
   ]
  },
  {
   "cell_type": "code",
   "execution_count": null,
   "id": "faf7c1da-52c8-456b-8f1a-916fb1c61514",
   "metadata": {},
   "outputs": [],
   "source": [
    "rmse4 = np.sqrt(mean_squared_error(imf4_test, imf4_pred))\n",
    "mae4 = mean_absolute_error(imf4_test, imf4_pred)\n",
    "\n",
    "# 输出评估指标\n",
    "print(\"RMSE:\", rmse4)\n",
    "print(\"MAE:\", mae4)"
   ]
  },
  {
   "cell_type": "markdown",
   "id": "57ba3b53-9f36-427f-9811-fb557533b9d4",
   "metadata": {},
   "source": [
    "#### IMF5"
   ]
  },
  {
   "cell_type": "code",
   "execution_count": null,
   "id": "9e98ced6-bd6b-4d24-a2d8-983a022fe6c7",
   "metadata": {},
   "outputs": [],
   "source": [
    "imf5 = get_imf(train_imfs, 5)\n",
    "imf5_test = get_imf(test_imfs, 5)"
   ]
  },
  {
   "cell_type": "code",
   "execution_count": null,
   "id": "34ef1590-6985-4536-aee0-dabab4840d80",
   "metadata": {
    "scrolled": true
   },
   "outputs": [],
   "source": [
    "imf5_his=model.fit(imf5, np.roll(imf5, -1), epochs=100, batch_size=128)"
   ]
  },
  {
   "cell_type": "code",
   "execution_count": null,
   "id": "939fa37d-2b3e-4fe8-a908-d1fa2550f586",
   "metadata": {},
   "outputs": [],
   "source": [
    "imf5_pred= model.predict(imf5_test)"
   ]
  },
  {
   "cell_type": "code",
   "execution_count": null,
   "id": "2c518596-17d4-4027-9104-9119dbf9975f",
   "metadata": {
    "scrolled": true
   },
   "outputs": [],
   "source": [
    "loss_5 = imf5_his.history['loss']\n",
    "# 绘制训练曲线\n",
    "plt.plot(loss_5, label='Training Loss')\n",
    "plt.xlabel('Epochs')\n",
    "plt.ylabel('Loss')\n",
    "plt.legend()\n",
    "plt.show()"
   ]
  },
  {
   "cell_type": "code",
   "execution_count": null,
   "id": "488dfc7b-c4a7-4e1a-bab1-6f2f09e56c67",
   "metadata": {},
   "outputs": [],
   "source": [
    "rmse5 = np.sqrt(mean_squared_error(imf5_test, imf5_pred))\n",
    "mae5 = mean_absolute_error(imf5_test, imf5_pred)\n",
    "\n",
    "# 输出评估指标\n",
    "print(\"RMSE:\", rmse5)\n",
    "print(\"MAE:\", mae5)"
   ]
  },
  {
   "cell_type": "markdown",
   "id": "8d1624c0-9a51-40dd-a30d-3c35cd41a769",
   "metadata": {},
   "source": [
    "#### IMF6"
   ]
  },
  {
   "cell_type": "code",
   "execution_count": null,
   "id": "5f96a4b1-a779-40c7-b608-2aa4485af6a0",
   "metadata": {},
   "outputs": [],
   "source": [
    "imf6 = get_imf(train_imfs, 6)\n",
    "imf6_test = get_imf(test_imfs, 6)"
   ]
  },
  {
   "cell_type": "code",
   "execution_count": null,
   "id": "0b5e297f-e883-4639-80aa-fdb1c5cb21f6",
   "metadata": {
    "scrolled": true
   },
   "outputs": [],
   "source": [
    "imf6_his=model.fit(imf6, np.roll(imf6, -1), epochs=100, batch_size=128)"
   ]
  },
  {
   "cell_type": "code",
   "execution_count": null,
   "id": "a35c9e3c-765e-45d5-95cd-7fd1de2d1c5c",
   "metadata": {},
   "outputs": [],
   "source": [
    "imf6_pred= model.predict(imf6_test)"
   ]
  },
  {
   "cell_type": "code",
   "execution_count": null,
   "id": "f95d60f8-ab10-4067-8fe0-442ac938d312",
   "metadata": {
    "scrolled": true
   },
   "outputs": [],
   "source": [
    "loss_6 = imf6_his.history['loss']\n",
    "# 绘制训练曲线\n",
    "plt.plot(loss_6, label='Training Loss')\n",
    "plt.xlabel('Epochs')\n",
    "plt.ylabel('Loss')\n",
    "plt.legend()\n",
    "plt.show()"
   ]
  },
  {
   "cell_type": "code",
   "execution_count": null,
   "id": "f9492651-9b2a-4745-9e4c-4953157c7027",
   "metadata": {},
   "outputs": [],
   "source": [
    "rmse6 = np.sqrt(mean_squared_error(imf6_test, imf6_pred))\n",
    "mae6 = mean_absolute_error(imf6_test, imf6_pred)\n",
    "\n",
    "# 输出评估指标\n",
    "print(\"RMSE:\", rmse6)\n",
    "print(\"MAE:\", mae6)"
   ]
  },
  {
   "cell_type": "markdown",
   "id": "c33cc80e-cf3e-4eae-9d78-22b747d21473",
   "metadata": {},
   "source": [
    "#### IMF7"
   ]
  },
  {
   "cell_type": "code",
   "execution_count": null,
   "id": "e44cbc99-55c4-458e-aab4-70e34ba927ce",
   "metadata": {},
   "outputs": [],
   "source": [
    "imf7 = get_imf(train_imfs, 7)\n",
    "imf7_test = get_imf(test_imfs, 7)"
   ]
  },
  {
   "cell_type": "code",
   "execution_count": null,
   "id": "9d0875b4-a74d-4181-be8f-21ddc81aed75",
   "metadata": {
    "scrolled": true
   },
   "outputs": [],
   "source": [
    "imf7_his=model.fit(imf7, np.roll(imf7, -1), epochs=100, batch_size=128)"
   ]
  },
  {
   "cell_type": "code",
   "execution_count": null,
   "id": "2ceb2e88-4c19-48f3-a794-cb9794c9c298",
   "metadata": {},
   "outputs": [],
   "source": [
    "imf7_pred= model.predict(imf7_test)"
   ]
  },
  {
   "cell_type": "code",
   "execution_count": null,
   "id": "d0788863-f7d1-4d7f-8de9-b1bc59c823bf",
   "metadata": {},
   "outputs": [],
   "source": [
    "loss_7 = imf7_his.history['loss']\n",
    "# 绘制训练曲线\n",
    "plt.plot(loss_7, label='Training Loss')\n",
    "plt.xlabel('Epochs')\n",
    "plt.ylabel('Loss')\n",
    "plt.legend()\n",
    "plt.show()"
   ]
  },
  {
   "cell_type": "code",
   "execution_count": null,
   "id": "b02bbdaf-dd0e-45ee-af70-88038ab19a4e",
   "metadata": {},
   "outputs": [],
   "source": [
    "rmse7 = np.sqrt(mean_squared_error(imf7_test, imf7_pred))\n",
    "mae7 = mean_absolute_error(imf7_test, imf7_pred)\n",
    "\n",
    "# 输出评估指标\n",
    "print(\"RMSE:\", rmse7)\n",
    "print(\"MAE:\", mae7)"
   ]
  },
  {
   "cell_type": "markdown",
   "id": "49460ab0-de17-47e1-85e5-7d9cf9b00219",
   "metadata": {},
   "source": [
    "#### Residue"
   ]
  },
  {
   "cell_type": "code",
   "execution_count": null,
   "id": "2168462f-308a-4076-8aad-f479977839bd",
   "metadata": {
    "scrolled": true
   },
   "outputs": [],
   "source": [
    "res_his=model.fit(train_residue, np.roll(train_residue, -1), epochs=100, batch_size=128)"
   ]
  },
  {
   "cell_type": "code",
   "execution_count": null,
   "id": "c3ef6b0e-69dc-4ae3-8734-ddda6d1eacec",
   "metadata": {},
   "outputs": [],
   "source": [
    "res_pred= model.predict(test_residue)"
   ]
  },
  {
   "cell_type": "code",
   "execution_count": null,
   "id": "03aa3547-9bf6-4f48-92b1-583f9a0e5525",
   "metadata": {
    "scrolled": true
   },
   "outputs": [],
   "source": [
    "loss_res = res_his.history['loss']\n",
    "# 绘制训练曲线\n",
    "plt.plot(loss_res, label='Training Loss')\n",
    "plt.xlabel('Epochs')\n",
    "plt.ylabel('Loss')\n",
    "plt.legend()\n",
    "plt.show()"
   ]
  },
  {
   "cell_type": "code",
   "execution_count": null,
   "id": "91cefc5c-a283-4405-b59a-ebe5359f97a1",
   "metadata": {},
   "outputs": [],
   "source": [
    "rmse_res = np.sqrt(mean_squared_error(test_residue, res_pred))\n",
    "mae_res = mean_absolute_error(test_residue, res_pred)\n",
    "\n",
    "# 输出评估指标\n",
    "print(\"RMSE:\", rmse_res)\n",
    "print(\"MAE:\", mae_res)"
   ]
  },
  {
   "cell_type": "markdown",
   "id": "3d6e42d3-3134-45a1-baaa-5138b3b9d453",
   "metadata": {},
   "source": [
    "## Prediction Result"
   ]
  },
  {
   "cell_type": "code",
   "execution_count": null,
   "id": "949ecb4d-5322-4531-8b06-282b57b7905b",
   "metadata": {},
   "outputs": [],
   "source": [
    "sum_pred = imf1_pred + imf2_pred + imf3_pred + imf4_pred + imf5_pred + imf6_pred + imf7_pred + res_pred\n",
    "sum_test = imf1_test + imf2_test + imf3_test + imf4_test + imf5_test + imf6_test + imf7_test + test_residue.squeeze()"
   ]
  },
  {
   "cell_type": "code",
   "execution_count": null,
   "id": "c0d99efe-e67d-4400-849b-4ef1e9ec0aec",
   "metadata": {},
   "outputs": [],
   "source": [
    "sum_pred = pd.DataFrame({'pred': sum_pred.reshape(-1)})\n",
    "sum_test = pd.DataFrame({'test': sum_test}).reset_index(drop=True)\n",
    "comb_emd = pd.concat([sum_pred, sum_test], axis=1)\n",
    "\n",
    "comb_emd.head()"
   ]
  },
  {
   "cell_type": "code",
   "execution_count": null,
   "id": "95d7de6e-8a99-4997-a38d-db21cfce6e15",
   "metadata": {},
   "outputs": [],
   "source": [
    "li_rv_comp = li['rv'][5885:].reset_index(drop=True)"
   ]
  },
  {
   "cell_type": "code",
   "execution_count": null,
   "id": "de9b9f6b-b0b0-47d1-ab3e-810ccbb1a201",
   "metadata": {},
   "outputs": [],
   "source": [
    "fig, ax1 = plt.subplots(figsize=(15, 6))\n",
    "\n",
    "# 绘制 Actual 曲线和 Predicted 曲线，共用同一个y轴\n",
    "ax1.plot(li_rv_comp, label='Actual', alpha=0.5, color='blue')\n",
    "ax1.plot(comb_emd['pred'], label='Predicted', color='red')\n",
    "ax1.set_ylabel('波动率', fontsize = 15)\n",
    "\n",
    "# 添加图例\n",
    "fig.legend(loc=\"upper right\",fontsize = 15)\n",
    "\n",
    "plt.xticks(fontsize = 15)\n",
    "plt.yticks(fontsize = 15)\n",
    "plt.xlabel('时间',fontsize = 15)\n",
    "plt.tight_layout()\n",
    "plt.show()"
   ]
  },
  {
   "cell_type": "markdown",
   "id": "6fc77bfa-6b72-4b52-9564-a47b9c9cbfba",
   "metadata": {},
   "source": [
    "# LSTM"
   ]
  },
  {
   "cell_type": "code",
   "execution_count": null,
   "id": "1ceb10b6-75ca-498a-8deb-115bd2acdf8a",
   "metadata": {},
   "outputs": [],
   "source": [
    "X = li.drop(columns=['rv'])\n",
    "y = li['rv']\n",
    "\n",
    "X_train, X_test, y_train, y_test = train_test_split(X, y, test_size=0.2, random_state=42)\n",
    "\n",
    "# 显示训练集和测试集的形状\n",
    "print(\"训练集特征形状:\", X_train.shape)\n",
    "print(\"训练集目标形状:\", y_train.shape)\n",
    "print(\"测试集特征形状:\", X_test.shape)\n",
    "print(\"测试集目标形状:\", y_test.shape)"
   ]
  },
  {
   "cell_type": "code",
   "execution_count": null,
   "id": "72e38a14-5d04-4553-8589-cbc7b05ad0b0",
   "metadata": {},
   "outputs": [],
   "source": [
    "plt.figure(figsize=(15, 5))\n",
    "\n",
    "# 绘制训练集目标变量曲线，设置 alpha 为 0.5\n",
    "plt.plot(range(len(y_train)), y_train.values, label='Training Set', alpha=0.5, color='blue')\n",
    "\n",
    "# 绘制测试集目标变量曲线\n",
    "plt.plot(range(len(y_train), len(y_train) + len(y_test)), y_test.values, label='Test Set', color='blue')\n",
    "\n",
    "# 添加图例、标题和标签\n",
    "plt.legend()\n",
    "plt.title('测试集划分情况')\n",
    "plt.xlabel('时间')\n",
    "plt.ylabel('Target Variable')\n",
    "\n",
    "plt.show()"
   ]
  },
  {
   "cell_type": "markdown",
   "id": "480c6002-1364-41e5-9ac1-f3c39d3ba2d2",
   "metadata": {},
   "source": [
    "## Model Training"
   ]
  },
  {
   "cell_type": "code",
   "execution_count": null,
   "id": "f2910d9b-3aa2-4c82-a7a3-231b9674d0c0",
   "metadata": {
    "scrolled": true
   },
   "outputs": [],
   "source": [
    "li_his = model.fit(X_train, y_train,epochs=100, batch_size=64)"
   ]
  },
  {
   "cell_type": "code",
   "execution_count": null,
   "id": "cd77bd35-333d-47f5-9440-7612b6e4e035",
   "metadata": {},
   "outputs": [],
   "source": [
    "rv_pred = model.predict(X_test)"
   ]
  },
  {
   "cell_type": "code",
   "execution_count": null,
   "id": "9d4b40ee-9405-42ef-8f70-ae00f4ef8eab",
   "metadata": {},
   "outputs": [],
   "source": [
    "loss_rv = li_his.history['loss']\n",
    "# 绘制训练曲线\n",
    "plt.plot(loss_rv, label='Training Loss')\n",
    "plt.xlabel('Epochs')\n",
    "plt.ylabel('Loss')\n",
    "plt.legend()\n",
    "plt.show()"
   ]
  },
  {
   "cell_type": "code",
   "execution_count": null,
   "id": "4ba33044-67a8-403b-9c3b-805b9c3e22c6",
   "metadata": {},
   "outputs": [],
   "source": [
    "rmse_rv = np.sqrt(mean_squared_error(y_test, rv_pred))\n",
    "mae_rv = mean_absolute_error(y_test, rv_pred)\n",
    "\n",
    "# 输出评估指标\n",
    "print(\"RMSE:\", rmse_rv)\n",
    "print(\"MAE:\", mae_rv)"
   ]
  },
  {
   "cell_type": "markdown",
   "id": "7e7b2a2e-9d0f-4fa8-936c-4c64400f1f09",
   "metadata": {},
   "source": [
    "## Prediction Result"
   ]
  },
  {
   "cell_type": "code",
   "execution_count": null,
   "id": "5a9a7caa-e812-4292-a7eb-6c12ed4f25d4",
   "metadata": {},
   "outputs": [],
   "source": [
    "rv_pred = pd.DataFrame({'pred': rv_pred.reshape(-1)})\n",
    "y_test = pd.DataFrame({'test': y_test}).reset_index(drop=True)\n",
    "comb = pd.concat([rv_pred, y_test], axis=1)\n",
    "\n",
    "comb.head()"
   ]
  },
  {
   "cell_type": "code",
   "execution_count": null,
   "id": "ea28801c-bc34-45c3-b98b-e0a02d70cf99",
   "metadata": {},
   "outputs": [],
   "source": [
    "plt.figure(figsize=(15, 6))\n",
    "\n",
    "plt.plot(comb['pred'], label='Predicted', color='blue')\n",
    "plt.plot(comb['test'], label='Actual', color='red',alpha=0.5)\n",
    "\n",
    "# 添加图例、标题和标签\n",
    "plt.legend()\n",
    "plt.title('Actual vs Predicted')\n",
    "plt.xlabel('Index')\n",
    "plt.ylabel('Value')\n",
    "\n",
    "plt.show()"
   ]
  },
  {
   "cell_type": "markdown",
   "id": "87d037f4-882b-4f56-b357-5b96c73a1a1d",
   "metadata": {},
   "source": [
    "# Value-at-Risk"
   ]
  },
  {
   "cell_type": "markdown",
   "id": "ca0d79e0-5641-4bb3-886b-21a8ea6c2b8d",
   "metadata": {},
   "source": [
    "## GARCH"
   ]
  },
  {
   "cell_type": "markdown",
   "id": "a783db8e-537f-41e0-a575-9471fa7720f1",
   "metadata": {},
   "source": [
    "首先，对收益率进行平稳性以及异方差检验"
   ]
  },
  {
   "cell_type": "markdown",
   "id": "6225ac36-b755-401f-92e0-c5b6f5d9dcd8",
   "metadata": {},
   "source": [
    "### ADF"
   ]
  },
  {
   "cell_type": "code",
   "execution_count": null,
   "id": "c55e80d6-5f0f-4c71-9b49-5d5ee2b56385",
   "metadata": {},
   "outputs": [],
   "source": [
    "ADF(li['return'])"
   ]
  },
  {
   "cell_type": "markdown",
   "id": "a3e0835f-6d32-4021-8409-53a8eeec3a44",
   "metadata": {},
   "source": [
    "### Engle"
   ]
  },
  {
   "cell_type": "code",
   "execution_count": null,
   "id": "5899e57c-fc99-4e14-aa1c-c4f4099fd840",
   "metadata": {},
   "outputs": [],
   "source": [
    "lishift=li['return'].shift(1).fillna(np.mean(li['return']))"
   ]
  },
  {
   "cell_type": "code",
   "execution_count": null,
   "id": "fe561292-ca60-44bc-b913-17a58d9cb677",
   "metadata": {
    "scrolled": true
   },
   "outputs": [],
   "source": [
    "eg_result = engle_granger(li['return'], lishift)\n",
    "\n",
    "print('\\nEngle-Granger Statistic: {:.4f}'.format(eg_result.stat))\n",
    "print('p-value: {:.4f}'.format(eg_result.pvalue))\n",
    "print('Null Hypothesis: {}'.format(eg_result.null_hypothesis))\n",
    "print('Alternative Hypothesis: {}'.format(eg_result.alternative_hypothesis))"
   ]
  },
  {
   "cell_type": "markdown",
   "id": "ca207bcf-0168-4af4-a9af-720af986b6a6",
   "metadata": {},
   "source": [
    "### Spliting dataset"
   ]
  },
  {
   "cell_type": "code",
   "execution_count": null,
   "id": "f6414995-4afb-4a98-9498-64a9384210ab",
   "metadata": {},
   "outputs": [],
   "source": [
    "train_re, test_re = train_test_split(li['return'], test_size=0.2, shuffle=False)"
   ]
  },
  {
   "cell_type": "code",
   "execution_count": null,
   "id": "cded3b4a-4366-44e4-9c73-1bfcc2f1a04f",
   "metadata": {},
   "outputs": [],
   "source": [
    "print(train_re.shape)\n",
    "print(test_re.shape)"
   ]
  },
  {
   "cell_type": "code",
   "execution_count": null,
   "id": "186c9d40-457d-468d-8fb5-5f5fab4c32e0",
   "metadata": {},
   "outputs": [],
   "source": [
    "plt.figure(figsize=(15, 6))\n",
    "plt.plot(np.arange(len(train_re)), train_re, color='blue', label='训练目标')\n",
    "\n",
    "plt.plot(np.arange(len(train_re), len(train_re) + len(test_re)),\n",
    "         test_re, color='black', label='测试目标')\n",
    "\n",
    "plt.title('收益率 数据划分情况', fontsize=20)\n",
    "plt.xlabel('时间', fontsize=15)\n",
    "plt.legend(loc='best')\n",
    "\n",
    "locator = MultipleLocator(1000)\n",
    "plt.gca().xaxis.set_major_locator(locator)\n",
    "plt.show()"
   ]
  },
  {
   "cell_type": "markdown",
   "id": "167e2292-0cc0-4d81-82d0-547f510075b2",
   "metadata": {},
   "source": [
    "### Training model"
   ]
  },
  {
   "cell_type": "code",
   "execution_count": null,
   "id": "6f9454ae-980d-45c9-832c-860ed4a7a95a",
   "metadata": {},
   "outputs": [],
   "source": [
    "def fit_vol_model(y, model_params, train_test_split = None):\n",
    "    model = arch_model(y, **model_params)\n",
    "    \n",
    "    fitted = model.fit(disp = \"off\")\n",
    "    train_y = y\n",
    "        \n",
    "    train_pred = fitted.conditional_volatility.dropna()\n",
    "    train_resid = fitted.resid / train_pred\n",
    "    \n",
    "    return {\n",
    "        \"Test y\": train_y,\n",
    "        \"Pred\": train_pred,\n",
    "        \"Resid\": train_resid,\n",
    "        \"Fitted\": fitted,\n",
    "        \"Model\": model\n",
    "    }\n",
    "\n",
    "garch_params = {\"p\": 1, \"q\": 1, \"vol\": \"Garch\", \"dist\": \"skewt\"}"
   ]
  },
  {
   "cell_type": "code",
   "execution_count": null,
   "id": "90ac66f6-7e74-42ee-b041-f3287b5b2dab",
   "metadata": {
    "scrolled": true
   },
   "outputs": [],
   "source": [
    "vol_results = fit_vol_model(test_re*100, garch_params)"
   ]
  },
  {
   "cell_type": "markdown",
   "id": "1734bfc7-d13c-4082-9e20-731c933ae74f",
   "metadata": {},
   "source": [
    "### Vol Comparison with LSTM and EMD-LSTM"
   ]
  },
  {
   "cell_type": "code",
   "execution_count": null,
   "id": "97ad150d-f0eb-4edf-be29-fbbcb7c35682",
   "metadata": {},
   "outputs": [],
   "source": [
    "vol_test= pd.DataFrame(vol_results['Test y'])\n",
    "vol_pred = pd.DataFrame(vol_results['Pred'])\n",
    "vol_resid= pd.DataFrame(vol_results['Resid'])\n",
    "res = vol_results['Fitted']\n",
    "res"
   ]
  },
  {
   "cell_type": "code",
   "execution_count": null,
   "id": "4dcecc1d-3b9d-430f-9a13-f21d8c9da044",
   "metadata": {},
   "outputs": [],
   "source": [
    "vol_pred_comp = vol_pred.reset_index(drop=True)"
   ]
  },
  {
   "cell_type": "code",
   "execution_count": null,
   "id": "11ac1719-7690-4938-adac-94dd4701956a",
   "metadata": {},
   "outputs": [],
   "source": [
    "plt.figure(figsize=(15, 6))\n",
    "\n",
    "# 绘制 Actual 曲线\n",
    "plt.plot(li_rv_comp, label='Actual', color='blue')\n",
    "\n",
    "# 绘制 GARCH 曲线\n",
    "plt.plot(vol_pred_comp, label='GARCH', color='green')\n",
    "\n",
    "# 绘制 LSTM 预测曲线\n",
    "plt.plot(comb['pred'], label='LSTM', color='purple')\n",
    "\n",
    "# 绘制 EMD-LSTM 曲线\n",
    "plt.plot(comb_emd['pred'], label='EMD-LSTM', color='red')\n",
    "\n",
    "# 添加图例、标题和标签，并调整图例的字体大小\n",
    "plt.xlabel('时间')\n",
    "plt.ylabel('已实现波动率')\n",
    "plt.legend(prop={'size': 12})\n",
    "\n",
    "# 显示图形\n",
    "plt.show()"
   ]
  },
  {
   "cell_type": "code",
   "execution_count": null,
   "id": "671ce840-b87b-4bf5-8fcf-2633ba74f06e",
   "metadata": {},
   "outputs": [],
   "source": [
    "fig, ax1 = plt.subplots(figsize=(15, 6))\n",
    "\n",
    "# 绘制 vol_pred 列的数据\n",
    "ax1.plot(vol_pred, label='GARCH', color='blue')\n",
    "ax1.plot(li['rv'][5885:], label='实际波动率', color='red', alpha=0.75)\n",
    "\n",
    "# 设置标签和标题\n",
    "ax1.set_xlabel('时间', fontsize=14)\n",
    "ax1.set_ylabel('波动率值', fontsize=14)\n",
    "ax1.set_title('GARCH模型波动率预测效果图', fontsize=16)\n",
    "\n",
    "# 添加图例\n",
    "fig.legend(loc=\"upper right\", fontsize='large')\n",
    "\n",
    "plt.tight_layout()\n",
    "plt.show()"
   ]
  },
  {
   "cell_type": "markdown",
   "id": "5034ffd8-24e6-4126-9df5-d4baa576fcae",
   "metadata": {},
   "source": [
    "### VaR Prediction"
   ]
  },
  {
   "cell_type": "code",
   "execution_count": null,
   "id": "957e8a03-5f91-414e-b873-450d4e962b01",
   "metadata": {},
   "outputs": [],
   "source": [
    "garch_params"
   ]
  },
  {
   "cell_type": "code",
   "execution_count": null,
   "id": "df5db361-4bbf-44ce-ba4e-a0e6a02b33e3",
   "metadata": {},
   "outputs": [],
   "source": [
    "res = vol_results['Fitted']"
   ]
  },
  {
   "cell_type": "code",
   "execution_count": null,
   "id": "18a1083e-ae44-4639-888c-222fd28386d6",
   "metadata": {},
   "outputs": [],
   "source": [
    "am = arch_model(li['return']*1000, p = 1, q = 1, o = 1, vol = 'GARCH', dist = 't')\n",
    "res = am.fit(disp='off')"
   ]
  },
  {
   "cell_type": "code",
   "execution_count": null,
   "id": "cbc7aa3d-d080-4ff1-bf3c-314f5e7defb1",
   "metadata": {},
   "outputs": [],
   "source": [
    "forecasts = res.forecast(start=5885)\n",
    "cond_mean = forecasts.mean[:]\n",
    "cond_var = forecasts.variance[:]\n",
    "q = am.distribution.ppf([0.01, 0.05], res.params[5])\n",
    "print(q)"
   ]
  },
  {
   "cell_type": "code",
   "execution_count": null,
   "id": "b32f7817-ab32-44fe-bb55-c369a487e701",
   "metadata": {},
   "outputs": [],
   "source": [
    "print('cond_mean shape:', cond_mean.shape)\n",
    "print('cond_var shape:', cond_var.shape)\n",
    "print('q shape:', q.shape)"
   ]
  },
  {
   "cell_type": "code",
   "execution_count": null,
   "id": "3313fd84-bef3-46c0-9be1-76921bf71e24",
   "metadata": {
    "scrolled": true
   },
   "outputs": [],
   "source": [
    "# 计算VaR\n",
    "value_at_risk = -cond_mean.values - np.sqrt(cond_var).values * q[None, :]\n",
    "value_at_risk = pd.DataFrame(value_at_risk, columns=[\"1%\", \"5%\"], index=cond_var.index)"
   ]
  },
  {
   "cell_type": "code",
   "execution_count": null,
   "id": "6349f395-8745-4d97-8821-f0c28b87a3e8",
   "metadata": {
    "scrolled": true
   },
   "outputs": [],
   "source": [
    "value_at_risk"
   ]
  },
  {
   "cell_type": "code",
   "execution_count": null,
   "id": "17a9e93b-33d3-4cdf-8266-1d932613f5df",
   "metadata": {},
   "outputs": [],
   "source": [
    "merged_df = pd.concat([li['return'][5885:]*1000, value_at_risk], axis=1)\n",
    "merged_df.reset_index(drop=True, inplace=True)\n",
    "merged_df"
   ]
  },
  {
   "cell_type": "code",
   "execution_count": null,
   "id": "ef748ef7-51eb-415d-b607-29b864914945",
   "metadata": {},
   "outputs": [],
   "source": [
    "plt.figure(figsize=(15, 6))\n",
    "\n",
    "# 绘制 LI Return 列\n",
    "plt.plot(merged_df.index, merged_df['return'], label='LI Return', color='blue',alpha = 0.5)\n",
    "\n",
    "# 绘制 Value at Risk 列\n",
    "plt.plot(merged_df.index, -merged_df['1%'], label='VaR 99%', color='red')\n",
    "plt.plot(merged_df.index, -merged_df['5%'], label='VaR 95%', color='green')\n",
    "\n",
    "# 添加图例、标题和标签\n",
    "plt.legend(fontsize=18)\n",
    "plt.xlabel('时间',fontsize = 18)\n",
    "plt.ylabel('Value',fontsize = 18)\n",
    "plt.xticks(fontsize=16)\n",
    "plt.yticks(fontsize=16)\n",
    "plt.tight_layout()\n",
    "plt.show()"
   ]
  },
  {
   "cell_type": "code",
   "execution_count": null,
   "id": "a8a90d13-1676-481e-b65d-4273c8c1fa23",
   "metadata": {
    "scrolled": true
   },
   "outputs": [],
   "source": [
    "ax = value_at_risk.plot(legend=False, figsize=(15,6))\n",
    "xl = ax.set_xlim(value_at_risk.index[0], value_at_risk.index[-1])\n",
    "\n",
    "rets = li['return'][5885:]*1000\n",
    "rets.name = 'LI Return'\n",
    "\n",
    "c = []\n",
    "for idx in value_at_risk.index:\n",
    "    if rets[idx] > -value_at_risk.loc[idx, '5%']:\n",
    "        c.append('#000000')\n",
    "    elif rets[idx] < -value_at_risk.loc[idx, '1%']:\n",
    "        c.append('#BB0000')\n",
    "    else:\n",
    "        c.append('#BB00BB')\n",
    "        \n",
    "c = np.array(c, dtype='object')\n",
    "\n",
    "labels = {\n",
    "    \n",
    "    '#BB0000': '1% Exceedence',\n",
    "    '#BB00BB': '5% Exceedence',\n",
    "    '#000000': 'No Exceedence'\n",
    "}\n",
    "\n",
    "markers = {'#BB0000': 'x', '#BB00BB': 's', '#000000': 'o'}\n",
    "\n",
    "for color in np.unique(c):\n",
    "    sel = c == color\n",
    "    ax.scatter(\n",
    "        rets.index[sel],\n",
    "        -rets.loc[sel],\n",
    "        marker=markers[color],\n",
    "        c=c[sel],\n",
    "        label=labels[color])\n",
    "    \n",
    "ax.legend(frameon=False, ncol=3)\n",
    "plt.xlabel('时间',fontsize = 18)\n",
    "plt.ylabel('Value',fontsize = 18)\n",
    "plt.show()"
   ]
  },
  {
   "cell_type": "markdown",
   "id": "b3123853-2760-42b9-8c8f-d6d9790756aa",
   "metadata": {},
   "source": [
    "## EMD-LSTM"
   ]
  },
  {
   "cell_type": "markdown",
   "id": "79a3d21a-35aa-4608-9a70-00792d8903df",
   "metadata": {},
   "source": [
    "OMG finally we're here! Feels like centries!"
   ]
  },
  {
   "cell_type": "markdown",
   "id": "32107044-cce6-4bb6-83a8-448e420400ef",
   "metadata": {},
   "source": [
    "To calculate VaR, we need:\n",
    "\n",
    "\\begin{equation}\n",
    "VaR_{t} = \\mu_{t} + \\sigma_{t} Z_{\\alpha}\n",
    "\\end{equation}\n",
    "\n",
    "where, Where $Z_{\\alpha}$represents the critical value, $\\mu_{t}$ denotes the average return of the underlying asset, and $\\sigma_{t}$ is the estimated volatility. "
   ]
  },
  {
   "cell_type": "code",
   "execution_count": null,
   "id": "bfdd72d0-b849-4672-92ec-61a329c5dd0d",
   "metadata": {
    "scrolled": true
   },
   "outputs": [],
   "source": [
    "mu = cond_mean\n",
    "sigma =pd.DataFrame(comb_emd['pred'])\n",
    "\n",
    "print('mu:',type(mu))\n",
    "print('sigma:',type(sigma))"
   ]
  },
  {
   "cell_type": "code",
   "execution_count": null,
   "id": "62b7fb31-27ea-4980-91dd-8551b224d9b3",
   "metadata": {
    "scrolled": true
   },
   "outputs": [],
   "source": [
    "var_dl = -mu.values - sigma.values * q[None, :]\n",
    "var_dl = pd.DataFrame(var_dl, columns=[\"1%\", \"5%\"], index=sigma.index)"
   ]
  },
  {
   "cell_type": "code",
   "execution_count": null,
   "id": "6480a844-f281-4d15-affe-87fe59fabb0b",
   "metadata": {},
   "outputs": [],
   "source": [
    "lire = li['return'][5885:]\n",
    "lire.reset_index(drop = True, inplace =True)"
   ]
  },
  {
   "cell_type": "code",
   "execution_count": null,
   "id": "0d07fbc6-4d06-4719-b436-0d33100c65ba",
   "metadata": {
    "scrolled": true
   },
   "outputs": [],
   "source": [
    "dl = pd.concat([lire, var_dl], axis=1)\n",
    "dl.reset_index(drop=True, inplace=True)\n",
    "dl"
   ]
  },
  {
   "cell_type": "markdown",
   "id": "dacd1d57-92aa-441f-acfb-bf3aaa83f298",
   "metadata": {},
   "source": [
    "### VaR Prediction"
   ]
  },
  {
   "cell_type": "code",
   "execution_count": null,
   "id": "1a506774-6373-4d8b-a97d-32ec04d0fb05",
   "metadata": {},
   "outputs": [],
   "source": [
    "plt.figure(figsize=(15, 6))\n",
    "\n",
    "# 绘制 LI Return 列\n",
    "plt.plot(dl.index, dl['return']*10, label='LI Return', color='blue',alpha = 0.5)\n",
    "\n",
    "# 绘制 Value at Risk 列\n",
    "plt.plot(dl.index,-dl['1%'], label='99% VaR', color='red')\n",
    "plt.plot(dl.index,-dl['5%'], label='95% VaR', color='green')\n",
    "\n",
    "# 添加图例、标题和标签\n",
    "plt.legend(fontsize=18)\n",
    "plt.xlabel('时间',fontsize = 18)\n",
    "plt.ylabel('Value',fontsize = 18)\n",
    "plt.xticks(fontsize=16)\n",
    "plt.yticks(fontsize=16)\n",
    "plt.tight_layout()\n",
    "plt.show()"
   ]
  },
  {
   "cell_type": "code",
   "execution_count": null,
   "id": "665814aa-cf2a-4ab8-a7d1-88e132a21d27",
   "metadata": {
    "scrolled": true
   },
   "outputs": [],
   "source": [
    "ax = var_dl.plot(legend=False, figsize=(15,6))\n",
    "xl = ax.set_xlim(var_dl.index[0], var_dl.index[-1])\n",
    "\n",
    "rets = li['return'][5885:]*1000\n",
    "rets.name = 'LI Return'\n",
    "\n",
    "c = []\n",
    "for idx in value_at_risk.index:\n",
    "    if rets[idx] > -value_at_risk.loc[idx, '5%']:\n",
    "        c.append('#000000')\n",
    "    elif rets[idx] < -value_at_risk.loc[idx, '1%']:\n",
    "        c.append('#BB0000')\n",
    "    else:\n",
    "        c.append('#BB00BB')\n",
    "        \n",
    "c = np.array(c, dtype='object')\n",
    "\n",
    "labels = {\n",
    "    \n",
    "    '#BB0000': '1% Exceedence',\n",
    "    '#BB00BB': '5% Exceedence',\n",
    "    '#000000': 'No Exceedence'\n",
    "}\n",
    "\n",
    "markers = {'#BB0000': 'x', '#BB00BB': 's', '#000000': 'o'}\n",
    "\n",
    "for color in np.unique(c):\n",
    "    sel = c == color\n",
    "    ax.scatter(\n",
    "        rets.index[sel],\n",
    "        -rets.loc[sel],\n",
    "        marker=markers[color],\n",
    "        c=c[sel],\n",
    "        label=labels[color])\n",
    "    \n",
    "ax.legend(frameon=False, ncol=3)\n",
    "plt.xlabel('时间',fontsize = 18)\n",
    "plt.ylabel('Value',fontsize = 18)\n",
    "plt.show()"
   ]
  },
  {
   "cell_type": "markdown",
   "id": "d90631e0-3158-4845-977b-55493b5a62b6",
   "metadata": {},
   "source": [
    "# Kupiec Test"
   ]
  },
  {
   "cell_type": "code",
   "execution_count": null,
   "id": "959680d2-8867-4230-b9c7-f6cd835c86b4",
   "metadata": {},
   "outputs": [],
   "source": [
    "def kupiec_test(actual_losses, var_predictions, confidence_level):\n",
    "    # 计算失败次数\n",
    "    failures = (actual_losses > var_predictions).sum()\n",
    "    # 总观察次数\n",
    "    total_obs = len(actual_losses)\n",
    "    # 预期失败次数\n",
    "    expected_failures = total_obs * (1 - confidence_level)\n",
    "    # 计算似然比统计量\n",
    "    lr_stat = -2 * np.log(binom.pmf(failures, total_obs, 1 - confidence_level)) + 2 * np.log(binom.pmf(failures, total_obs, 1 - failures / total_obs))\n",
    "    # 计算卡方分布的临界值\n",
    "    critical_value = chi2.ppf(1 - confidence_level, 1)\n",
    "\n",
    "    return lr_stat,critical_value,failures"
   ]
  },
  {
   "cell_type": "code",
   "execution_count": null,
   "id": "87422b8b-1753-4c91-a3e6-f75d0d91911c",
   "metadata": {},
   "outputs": [],
   "source": [
    "actual_losses = li['return'][5885:].reset_index(drop=True)\n",
    "actual_losses"
   ]
  },
  {
   "cell_type": "markdown",
   "id": "2041e03e-37be-45b2-8bc7-4beaeaaf3397",
   "metadata": {},
   "source": [
    "## 95%"
   ]
  },
  {
   "cell_type": "markdown",
   "id": "5b21a60f-59cb-4524-b242-d0bbe26aede7",
   "metadata": {},
   "source": [
    "### EMD-LSTM"
   ]
  },
  {
   "cell_type": "code",
   "execution_count": null,
   "id": "373bdc92-6ed9-4b3e-84b4-2558134f2c50",
   "metadata": {},
   "outputs": [],
   "source": [
    "var_predictions = np.squeeze(sum_pred)\n",
    "confidence_level = 0.95\n",
    "# 进行 Kupiec 检验\n",
    "lr_stat, critical_value,failures = kupiec_test(actual_losses, var_predictions, confidence_level)\n",
    "\n",
    "print(\"Likelihood Ratio Statistic:\", lr_stat)\n",
    "print(\"Critical Value:\", critical_value)\n",
    "print(\"failures\", failures)\n",
    "print(\"Reject null hypothesis?\" , \"Yes\" if lr_stat > critical_value else \"No\")"
   ]
  },
  {
   "cell_type": "markdown",
   "id": "2349765b-916c-4034-bcdb-007a0744b93d",
   "metadata": {},
   "source": [
    "### GARCH"
   ]
  },
  {
   "cell_type": "code",
   "execution_count": null,
   "id": "7fe905fe-d889-40ea-94fd-e6eb19d63d28",
   "metadata": {},
   "outputs": [],
   "source": [
    "var_predictions = merged_df['5%']\n",
    "confidence_level = 0.95\n",
    "\n",
    "# 进行 Kupiec 检验\n",
    "lr_stat, critical_value,failures = kupiec_test(actual_losses, var_predictions, confidence_level)\n",
    "\n",
    "# 输出结果\n",
    "print(\"Likelihood Ratio Statistic:\", lr_stat)\n",
    "print(\"Critical Value:\", critical_value)\n",
    "print(\"failures\", failures)\n",
    "print(\"Reject null hypothesis?\" , \"Yes\" if lr_stat > critical_value else \"No\")"
   ]
  },
  {
   "cell_type": "markdown",
   "id": "5b50fc19-029c-4093-9637-6d83753552e8",
   "metadata": {},
   "source": [
    "## 99%"
   ]
  },
  {
   "cell_type": "markdown",
   "id": "64015a3b-7cba-4915-b3cf-19f071c7d3a9",
   "metadata": {},
   "source": [
    "### EMD-LSTM"
   ]
  },
  {
   "cell_type": "code",
   "execution_count": null,
   "id": "a7053802-de79-4717-b3bb-150d2e2164ea",
   "metadata": {},
   "outputs": [],
   "source": [
    "var_predictions = np.squeeze(sum_pred)\n",
    "confidence_level = 0.99\n",
    "\n",
    "# 进行 Kupiec 检验\n",
    "lr_stat, critical_value,failures = kupiec_test(actual_losses, var_predictions, confidence_level)\n",
    "\n",
    "# 输出结果\n",
    "print(\"Likelihood Ratio Statistic:\", lr_stat)\n",
    "print(\"Critical Value:\", critical_value)\n",
    "print(\"failures\", failures)\n",
    "print(\"Reject null hypothesis?\" , \"Yes\" if lr_stat > critical_value else \"No\")"
   ]
  },
  {
   "cell_type": "markdown",
   "id": "850d44d6-9969-479b-9c82-15d9dcaf35c2",
   "metadata": {},
   "source": [
    "### GARCH"
   ]
  },
  {
   "cell_type": "code",
   "execution_count": null,
   "id": "91e52268-276b-4aee-af6b-ae09b1d2c3dd",
   "metadata": {},
   "outputs": [],
   "source": [
    "var_predictions = merged_df['1%']\n",
    "confidence_level = 0.99\n",
    "\n",
    "# 进行 Kupiec 检验\n",
    "lr_stat, critical_value, failures = kupiec_test(actual_losses, var_predictions, confidence_level)\n",
    "\n",
    "# 输出结果\n",
    "print(\"Likelihood Ratio Statistic:\", lr_stat)\n",
    "print(\"Critical Value:\", critical_value)\n",
    "print(\"failures\", failures)\n",
    "print(\"Reject null hypothesis?\" , \"Yes\" if lr_stat > critical_value else \"No\")"
   ]
  },
  {
   "cell_type": "markdown",
   "id": "c4b501af-d566-43c0-bf34-6739f7820c5c",
   "metadata": {},
   "source": [
    "# 致谢"
   ]
  },
  {
   "cell_type": "markdown",
   "id": "89df99bd-68e6-412a-9867-e321b4741187",
   "metadata": {},
   "source": [
    "这篇论文是金融学主修学位的毕业论文。\n",
    "\n",
    "老实说，首先要感谢自己辅修了应用统计学的学位，不然毕业论文选题不知道要怎么办才能叫本科生创新。当然这也给了我一个启发：如果你想要在现有的专业领域里有新的路子可以走，学多点，学杂点，总归是好的。\n",
    "\n",
    "比如在我的同系的同学们最多用Python简单数据分析的时候，我可以直接手搓一个深度学习模型来完成我的毕业论文，虽然对于真正这个领域的同学来说简直是班门弄斧。\n",
    "\n",
    "但至少我有机会看见新的世界，以及新的可能性 :)"
   ]
  },
  {
   "cell_type": "markdown",
   "id": "da4b99ab-19bb-4701-a103-f2039f12155d",
   "metadata": {},
   "source": [
    "总之，谢谢的想法已经在另一篇里道尽了，写完这一篇反而有种如释重负的感觉。\n",
    "\n",
    "但我还是很感谢一直以来陪伴我走到这里的人。\n",
    "\n",
    "因为这些朋友的存在，让我学会了如何去好好爱身边的人，好好去表达以及接受这些爱意，珍视每一份难得的心意。\n",
    "\n",
    "虽然我依旧是一个糟糕的人，但谢谢你们，因为你们的存在让我感觉我没有糟糕到无药可救。 :3"
   ]
  },
  {
   "cell_type": "markdown",
   "id": "d790e02a-b655-430f-b4c3-fd6252fc7557",
   "metadata": {},
   "source": [
    "<div style=\"text-align: right;\">\n",
    "歪，2024年4月。\n",
    "</di月留"
   ]
  }
 ],
 "metadata": {
  "kernelspec": {
   "display_name": "Python 3 (ipykernel)",
   "language": "python",
   "name": "python3"
  },
  "language_info": {
   "codemirror_mode": {
    "name": "ipython",
    "version": 3
   },
   "file_extension": ".py",
   "mimetype": "text/x-python",
   "name": "python",
   "nbconvert_exporter": "python",
   "pygments_lexer": "ipython3",
   "version": "3.11.7"
  }
 },
 "nbformat": 4,
 "nbformat_minor": 5
}
