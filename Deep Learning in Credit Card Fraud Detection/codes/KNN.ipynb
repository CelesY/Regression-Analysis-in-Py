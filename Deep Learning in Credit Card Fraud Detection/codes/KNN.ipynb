{
 "cells": [
  {
   "cell_type": "markdown",
   "metadata": {
    "_uuid": "4e53daea64ae7fe95c31f576300557f904d31085"
   },
   "source": [
    "In this analysis I will be using K Nearest Neighbors to build the model and as the dataset: Credit Card Fraud Detection dataset provided by Kaggle. For this analysis I focused more on data preprocessing because it helps to gain a better accuracy rather than just sending raw data and telling to build a model. \n",
    "\n",
    "# Data Preprocessing\n",
    "What is data preprocessing?  It is a data mining technique that transforms raw data into understandable format. Raw data(real world data) is always incomplete and that data cannot be send through a model. Yhay would cause certain errors. That is why we need to preprocess data before sending through a model.\n",
    "\n",
    "I have used severel preprocessing techniques in this analysis.\n",
    "Without further a do let's get started!!!"
   ]
  },
  {
   "cell_type": "markdown",
   "metadata": {
    "_uuid": "4118f3252b7a55b0c5538cfe387006606696cee8"
   },
   "source": [
    "# Steps in Data Preprocessing\n",
    "Here iare the steps I have followed;\n",
    "1. Import libraries\n",
    "2. Read data\n",
    "3. Checking for missing values\n",
    "4. Checking for categorical data\n",
    "5. Standardize the data\n",
    "6. PCA transformation\n",
    "7. Data splitting"
   ]
  },
  {
   "cell_type": "markdown",
   "metadata": {
    "_uuid": "f268518f535ac9d70988aabb31ea49fb20d89c08"
   },
   "source": [
    "# 1. Import libraries\n",
    "As the main libraries, I am using Pandas, Numpy and time; \n",
    "* Pandas : Use for data manipulation and data analysis. \n",
    "* Numpy : fundamental package for scientific computing with Python. \n",
    "\n",
    "As for the visualization I am using Matplotlib and Seaborn.\n",
    "\n",
    "For the data preprocessing techniques and algorithms I used Scikit-learn libraries."
   ]
  },
  {
   "cell_type": "code",
   "execution_count": 1,
   "metadata": {
    "_cell_guid": "b1076dfc-b9ad-4769-8c92-a6c4dae69d19",
    "_uuid": "8f2839f25d086af736a60e9eeb907d3b93b6e0e5"
   },
   "outputs": [],
   "source": [
    "# main libraries\n",
    "import pandas as pd\n",
    "import numpy as np\n",
    "import time\n",
    "\n",
    "# visual libraries\n",
    "from matplotlib import pyplot as plt\n",
    "import matplotlib.gridspec as gridspec\n",
    "import seaborn as sns\n",
    "from mpl_toolkits.mplot3d import Axes3D \n",
    "plt.style.use('ggplot')\n",
    "\n",
    "# sklearn libraries\n",
    "from sklearn.neighbors import KNeighborsClassifier\n",
    "from sklearn.model_selection import train_test_split\n",
    "from sklearn.preprocessing import normalize\n",
    "from sklearn.metrics import confusion_matrix,accuracy_score,precision_score,recall_score,f1_score,matthews_corrcoef,classification_report,roc_curve\n",
    "from sklearn.externals import joblib\n",
    "from sklearn.preprocessing import StandardScaler\n",
    "from sklearn.decomposition import PCA\n"
   ]
  },
  {
   "cell_type": "markdown",
   "metadata": {
    "_uuid": "c2da9321245350925e7a73ad1803c29269e4c8c0"
   },
   "source": [
    "# 2. Read data\n",
    "You can find more details on dataset here: "
   ]
  },
  {
   "cell_type": "code",
   "execution_count": 2,
   "metadata": {
    "_uuid": "2e70de34465fa3f2b17ad536099bdf52b131115f"
   },
   "outputs": [],
   "source": [
    "# Read the data in the CSV file using pandas\n",
    "df = pd.read_csv('C:\\\\Users\\Celeste\\Desktop\\DL/creditcard.csv')\n",
    "df.head()"
   ]
  },
  {
   "cell_type": "code",
   "execution_count": 3,
   "metadata": {
    "_uuid": "5c01134faf6085f5e59b1cf5bf69e14e31bef48f"
   },
   "outputs": [],
   "source": [
    "df.shape"
   ]
  },
  {
   "cell_type": "markdown",
   "metadata": {
    "_uuid": "8175d370b89cdbdddcd268f635bf165a33b87f77"
   },
   "source": [
    "# 3. Checking for missing values\n",
    "In this data set, there are no missing values. So we don't need to handle missing values in the dataset."
   ]
  },
  {
   "cell_type": "code",
   "execution_count": 4,
   "metadata": {
    "_uuid": "2347ebe9ca4141a9fb1366af6608cf6627f40182"
   },
   "outputs": [],
   "source": [
    "df.isnull().sum()"
   ]
  },
  {
   "cell_type": "markdown",
   "metadata": {
    "_uuid": "587d53f059d6fd4ad6dd1cf1754b9348b7f4a60f"
   },
   "source": [
    "## Let's look at the data. \n",
    "So the dataset is labeled as 0s and 1s. 0 = non fraud and 1 = fraud. \n"
   ]
  },
  {
   "cell_type": "code",
   "execution_count": null,
   "metadata": {
    "_uuid": "1ed4301fde7d58f6320adfba10c4f09e28e942cf"
   },
   "outputs": [],
   "source": [
    "All = df.shape[0]\n",
    "fraud = df[df['Class'] == 1]\n",
    "nonFraud = df[df['Class'] == 0]\n",
    "\n",
    "x = len(fraud)/All\n",
    "y = len(nonFraud)/All\n",
    "\n",
    "print('frauds :',x*100,'%')\n",
    "print('non frauds :',y*100,'%')"
   ]
  },
  {
   "cell_type": "code",
   "execution_count": null,
   "metadata": {
    "_cell_guid": "79c7e3d0-c299-4dcb-8224-4455121ee9b0",
    "_uuid": "d629ff2d2480ee46fbb7e2d37f6b5fab8052498a"
   },
   "outputs": [],
   "source": [
    "# Let's plot the Transaction class against the Frequency\n",
    "labels = ['non frauds','fraud']\n",
    "classes = pd.value_counts(df['Class'], sort = True)\n",
    "classes.plot(kind = 'bar', rot=0)\n",
    "plt.title(\"Transaction class distribution\")\n",
    "plt.xticks(range(2), labels)\n",
    "plt.xlabel(\"Class\")\n",
    "plt.ylabel(\"Frequency\")"
   ]
  },
  {
   "cell_type": "markdown",
   "metadata": {
    "_uuid": "bb5dc3bc8db240c1b7db8131ad3100aebf7fb7bc"
   },
   "source": [
    "# 4. Checking for categorical data\n",
    "the only categorical cariable we have in this data set is the target variable.  Other features are already in numerical format, so no need of converting to categorical data.\n",
    "\n",
    "## Let's plot the distribution of features \n",
    "I used seaborn distplot() to visualize the distribution of features in the dataset.\n",
    "We have 30 features and target variable  in the dataset. "
   ]
  },
  {
   "cell_type": "code",
   "execution_count": null,
   "metadata": {
    "_uuid": "8b35aa9b4b7c88efe13424fa4f166d2395a4e507"
   },
   "outputs": [],
   "source": [
    "# distribution of Amount\n",
    "amount = [df['Amount'].values]\n",
    "sns.distplot(amount)"
   ]
  },
  {
   "cell_type": "code",
   "execution_count": null,
   "metadata": {
    "_uuid": "ea7239021b5cab547fdbe9073576eef203d6a972"
   },
   "outputs": [],
   "source": [
    "# distribution of Time\n",
    "time = df['Time'].values\n",
    "sns.distplot(time)"
   ]
  },
  {
   "cell_type": "code",
   "execution_count": null,
   "metadata": {
    "_uuid": "949e5e60df7835f4b2cbf9d9ef004c1627d23f08"
   },
   "outputs": [],
   "source": [
    "# distribution of anomalous features\n",
    "anomalous_features = df.iloc[:,1:29].columns\n",
    "\n",
    "plt.figure(figsize=(12,28*4))\n",
    "gs = gridspec.GridSpec(28, 1)\n",
    "for i, cn in enumerate(df[anomalous_features]):\n",
    "    ax = plt.subplot(gs[i])\n",
    "    sns.distplot(df[cn][df.Class == 1], bins=50)\n",
    "    sns.distplot(df[cn][df.Class == 0], bins=50)\n",
    "    ax.set_xlabel('')\n",
    "    ax.set_title('histogram of feature: ' + str(cn))\n",
    "plt.show()"
   ]
  },
  {
   "cell_type": "markdown",
   "metadata": {
    "_uuid": "c65f8b64ec734ebe9cc6f885bcc3c8a0717dd373"
   },
   "source": [
    "In this analysis I will not be dropping any features looking at the distribution of features, because I am still in the learning process of working with data preprocessing in numarous ways.So I would like to experiment  step by step on data.\n",
    "\n",
    "Instead all the features will be tranformed to scaled variables."
   ]
  },
  {
   "cell_type": "code",
   "execution_count": null,
   "metadata": {
    "_uuid": "97285e878e8d5b0120b11b04b124c232758d3af8"
   },
   "outputs": [],
   "source": [
    "# heat map of correlation of features\n",
    "correlation_matrix = df.corr()\n",
    "fig = plt.figure(figsize=(12,9))\n",
    "sns.heatmap(correlation_matrix,vmax=0.8,square = True)\n",
    "plt.show()"
   ]
  },
  {
   "cell_type": "markdown",
   "metadata": {
    "_uuid": "7fa0c3fcb5e1d0dc3547659d129caaa0316b15b7"
   },
   "source": [
    "# 5. Standardize the data\n",
    "The dataset is  contains only numerical input variables which are the result of a PCA transformation. Features V1, V2, ... V28 are the principal components obtained with PCA, the only features which have not been transformed with PCA are 'Time' and 'Amount'. So PCA is effected by scale so we need to scale the features in the data before applying PCA. For the scaling I am using Scikit-learn's StandardScaler(). In order to fit to the scaler the data should be reshaped within -1 nad 1. "
   ]
  },
  {
   "cell_type": "code",
   "execution_count": null,
   "metadata": {
    "_uuid": "bb65c84dd0164ac176d2ade4d2cdb1e1caa97fd2"
   },
   "outputs": [],
   "source": [
    "# Standardizing the features\n",
    "df['Vamount'] = StandardScaler().fit_transform(df['Amount'].values.reshape(-1,1))\n",
    "df['Vtime'] = StandardScaler().fit_transform(df['Time'].values.reshape(-1,1))\n",
    "\n",
    "df = df.drop(['Time','Amount'], axis = 1)\n",
    "df.head()"
   ]
  },
  {
   "cell_type": "markdown",
   "metadata": {
    "_uuid": "cfac3c2829f35f5fb258cc0198108a6a71ffda7c"
   },
   "source": [
    "Now all the features are standardize into unit sclae (mean = 0 and variance = 1)"
   ]
  },
  {
   "cell_type": "markdown",
   "metadata": {
    "_uuid": "92a3af1179286f5e5cbd8fddbc0041142f209a82"
   },
   "source": [
    "# 6. PCA transformation\n",
    "PCA (Principal Component Analysis) mainly using to reduce the size of the feature space while retaining as much of the information as possible.  In here all the features transformed into 2 features using PCA."
   ]
  },
  {
   "cell_type": "code",
   "execution_count": null,
   "metadata": {
    "_uuid": "c3b9797903f64576d37b6548346963bd074467d7"
   },
   "outputs": [],
   "source": [
    "X = df.drop(['Class'], axis = 1)\n",
    "y = df['Class']\n",
    "\n",
    "pca = PCA(n_components=2)\n",
    "principalComponents = pca.fit_transform(X.values)\n",
    "principalDf = pd.DataFrame(data = principalComponents\n",
    "             , columns = ['principal component 1', 'principal component 2'])"
   ]
  },
  {
   "cell_type": "code",
   "execution_count": null,
   "metadata": {
    "_uuid": "f3debd364193ff4654350a8fe2bbbf5a4fc87801"
   },
   "outputs": [],
   "source": [
    "finalDf = pd.concat([principalDf, y], axis = 1)\n",
    "finalDf.head()"
   ]
  },
  {
   "cell_type": "code",
   "execution_count": null,
   "metadata": {
    "_uuid": "0c5e30bd1b94c481a42b19f75b0282bfb3b6dc4f"
   },
   "outputs": [],
   "source": [
    "# 2D visualization\n",
    "fig = plt.figure(figsize = (8,8))\n",
    "ax = fig.add_subplot(1,1,1) \n",
    "ax.set_xlabel('Principal Component 1', fontsize = 15)\n",
    "ax.set_ylabel('Principal Component 2', fontsize = 15)\n",
    "ax.set_title('2 component PCA', fontsize = 20)\n",
    "targets = [0, 1]\n",
    "colors = ['r', 'g']\n",
    "for target, color in zip(targets,colors):\n",
    "    indicesToKeep = finalDf['Class'] == target\n",
    "    ax.scatter(finalDf.loc[indicesToKeep, 'principal component 1']\n",
    "               , finalDf.loc[indicesToKeep, 'principal component 2']\n",
    "               , c = color\n",
    "               , s = 50)\n",
    "ax.legend(targets)\n",
    "ax.grid()"
   ]
  },
  {
   "cell_type": "markdown",
   "metadata": {
    "_uuid": "99688bbddeb776e935aecff5adc3fcb3739e2c4c"
   },
   "source": [
    "Since the data is highly imbalanced, I am only taking 492 rows from the non_fraud transactions."
   ]
  },
  {
   "cell_type": "code",
   "execution_count": null,
   "metadata": {
    "_uuid": "7a2f4853bbf85e67be035cc62870ba137fe56123"
   },
   "outputs": [],
   "source": [
    "# Lets shuffle the data before creating the subsamples\n",
    "df = df.sample(frac=1)\n",
    "\n",
    "frauds = df[df['Class'] == 1]\n",
    "non_frauds = df[df['Class'] == 0][:492]\n",
    "\n",
    "new_df = pd.concat([non_frauds, frauds])\n",
    "# Shuffle dataframe rows\n",
    "new_df = new_df.sample(frac=1, random_state=42)\n",
    "\n",
    "new_df.head()"
   ]
  },
  {
   "cell_type": "code",
   "execution_count": null,
   "metadata": {
    "_uuid": "158a9693da5d8a1d76dc8a6e9cba2cec978f68ee"
   },
   "outputs": [],
   "source": [
    "# Let's plot the Transaction class against the Frequency\n",
    "labels = ['non frauds','fraud']\n",
    "classes = pd.value_counts(new_df['Class'], sort = True)\n",
    "classes.plot(kind = 'bar', rot=0)\n",
    "plt.title(\"Transaction class distribution\")\n",
    "plt.xticks(range(2), labels)\n",
    "plt.xlabel(\"Class\")\n",
    "plt.ylabel(\"Frequency\")\n"
   ]
  },
  {
   "cell_type": "code",
   "execution_count": null,
   "metadata": {
    "_uuid": "0d3b20c80a842b244cdd8f3be03bc1724710db9d"
   },
   "outputs": [],
   "source": [
    "# prepare the data\n",
    "features = new_df.drop(['Class'], axis = 1)\n",
    "labels = pd.DataFrame(new_df['Class'])\n",
    "\n",
    "feature_array = features.values\n",
    "label_array = labels.values"
   ]
  },
  {
   "cell_type": "markdown",
   "metadata": {
    "_uuid": "336f76cf1d136a4079ca84c94979cebc496d8616"
   },
   "source": [
    "# 7. Data splitting"
   ]
  },
  {
   "cell_type": "code",
   "execution_count": null,
   "metadata": {
    "_uuid": "3bcf871b5ccfa8b4a21de5c0f53645a71f66f932"
   },
   "outputs": [],
   "source": [
    "# splitting the faeture array and label array keeping 80% for the trainnig sets\n",
    "X_train,X_test,y_train,y_test = train_test_split(feature_array,label_array,test_size=0.20)\n",
    "\n",
    "# normalize: Scale input vectors individually to unit norm (vector length).\n",
    "X_train = normalize(X_train)\n",
    "X_test=normalize(X_test)"
   ]
  },
  {
   "cell_type": "markdown",
   "metadata": {
    "_uuid": "1b99020fb4fb2fc87860f53a7940f606bd668090"
   },
   "source": [
    "For the model building I am using K Nearest Neighbors. So we need find an optimal K to get the best out of it. "
   ]
  },
  {
   "cell_type": "code",
   "execution_count": null,
   "metadata": {
    "_uuid": "6868e4ee23a60eb5f03769a3c41482a49c51a292"
   },
   "outputs": [],
   "source": [
    "neighbours = np.arange(1,25)\n",
    "train_accuracy =np.empty(len(neighbours))\n",
    "test_accuracy = np.empty(len(neighbours))\n",
    "\n",
    "for i,k in enumerate(neighbours):\n",
    "    #Setup a knn classifier with k neighbors\n",
    "    knn=KNeighborsClassifier(n_neighbors=k,algorithm=\"kd_tree\",n_jobs=-1)\n",
    "    \n",
    "    #Fit the model\n",
    "    knn.fit(X_train,y_train.ravel())\n",
    "    \n",
    "    #Compute accuracy on the training set\n",
    "    train_accuracy[i] = knn.score(X_train, y_train.ravel())\n",
    "    \n",
    "    #Compute accuracy on the test set\n",
    "    test_accuracy[i] = knn.score(X_test, y_test.ravel()) "
   ]
  },
  {
   "cell_type": "code",
   "execution_count": null,
   "metadata": {
    "_uuid": "21b8b6b3b2d6a9dbaac374b9f103881566f03b4f"
   },
   "outputs": [],
   "source": [
    "#Generate plot\n",
    "plt.title('k-NN Varying number of neighbors')\n",
    "plt.plot(neighbours, test_accuracy, label='Testing Accuracy')\n",
    "plt.plot(neighbours, train_accuracy, label='Training accuracy')\n",
    "plt.legend()\n",
    "plt.xlabel('Number of neighbors')\n",
    "plt.ylabel('Accuracy')\n",
    "plt.show()"
   ]
  },
  {
   "cell_type": "code",
   "execution_count": null,
   "metadata": {
    "_uuid": "c0522a3b1200b42c45de2c93add385736e36d382"
   },
   "outputs": [],
   "source": [
    "idx = np.where(test_accuracy == max(test_accuracy))\n",
    "x = neighbours[idx]"
   ]
  },
  {
   "cell_type": "code",
   "execution_count": null,
   "metadata": {
    "_uuid": "aaebcd1b8a6c22fdcdc5163db45b050db5ef13c5"
   },
   "outputs": [],
   "source": [
    "#k_nearest_neighbours_classification\n",
    "knn=KNeighborsClassifier(n_neighbors=x[0],algorithm=\"kd_tree\",n_jobs=-1)\n",
    "knn.fit(X_train,y_train.ravel())"
   ]
  },
  {
   "cell_type": "code",
   "execution_count": null,
   "metadata": {
    "_uuid": "edff3eb07c6c7b32e74a88150d714c6edac469ef"
   },
   "outputs": [],
   "source": [
    "# save the model to disk\n",
    "filename = 'finalized_model.sav'\n",
    "joblib.dump(knn, filename)"
   ]
  },
  {
   "cell_type": "code",
   "execution_count": null,
   "metadata": {
    "_uuid": "9e7e041cf252dc24ea2e6333fc3dc4e40c43bade"
   },
   "outputs": [],
   "source": [
    "# load the model from disk\n",
    "knn = joblib.load(filename)"
   ]
  },
  {
   "cell_type": "code",
   "execution_count": null,
   "metadata": {
    "_uuid": "9baf532b35c1f6ec3fa87368ec5479852e296d64"
   },
   "outputs": [],
   "source": [
    "# predicting labels for testing set\n",
    "knn_predicted_test_labels=knn.predict(X_test)"
   ]
  },
  {
   "cell_type": "code",
   "execution_count": null,
   "metadata": {
    "_uuid": "0b15a28a1dbf6734c24fd68a0feae5de71ccd2ce"
   },
   "outputs": [],
   "source": [
    "from pylab import rcParams\n",
    "#plt.figure(figsize=(12, 12))\n",
    "rcParams['figure.figsize'] = 14, 8\n",
    "plt.subplot(222)\n",
    "plt.scatter(X_test[:, 0], X_test[:, 1], c=knn_predicted_test_labels)\n",
    "plt.title(\" Number of Blobs\")"
   ]
  },
  {
   "cell_type": "code",
   "execution_count": null,
   "metadata": {
    "_uuid": "1e5b0a80f48c92cb3f354f6e8e00698d5353c6ae"
   },
   "outputs": [],
   "source": [
    "#scoring knn\n",
    "knn_accuracy_score  = accuracy_score(y_test,knn_predicted_test_labels)\n",
    "knn_precison_score  = precision_score(y_test,knn_predicted_test_labels)\n",
    "knn_recall_score    = recall_score(y_test,knn_predicted_test_labels)\n",
    "knn_f1_score        = f1_score(y_test,knn_predicted_test_labels)\n",
    "knn_MCC             = matthews_corrcoef(y_test,knn_predicted_test_labels)"
   ]
  },
  {
   "cell_type": "code",
   "execution_count": null,
   "metadata": {
    "_uuid": "812e5dcb69d9a9a4f6a5aee28daa41c461e313f1"
   },
   "outputs": [],
   "source": [
    "#printing\n",
    "print(\"\")\n",
    "print(\"K-Nearest Neighbours\")\n",
    "print(\"Scores\")\n",
    "print(\"Accuracy -->\",knn_accuracy_score)\n",
    "print(\"Precison -->\",knn_precison_score)\n",
    "print(\"Recall -->\",knn_recall_score)\n",
    "print(\"F1 -->\",knn_f1_score)\n",
    "print(\"MCC -->\",knn_MCC)\n",
    "print(classification_report(y_test,knn_predicted_test_labels))"
   ]
  },
  {
   "cell_type": "code",
   "execution_count": null,
   "metadata": {
    "_uuid": "9743363ee130457bf810ce2fa898f2431d952440"
   },
   "outputs": [],
   "source": [
    "import seaborn as sns\n",
    "LABELS = ['Normal', 'Fraud']\n",
    "conf_matrix = confusion_matrix(y_test, knn_predicted_test_labels)\n",
    "plt.figure(figsize=(12, 12))\n",
    "sns.heatmap(conf_matrix, xticklabels=LABELS, yticklabels=LABELS, annot=True, fmt=\"d\");\n",
    "plt.title(\"Confusion matrix\")\n",
    "plt.ylabel('True class')\n",
    "plt.xlabel('Predicted class')\n",
    "plt.show()"
   ]
  },
  {
   "cell_type": "markdown",
   "metadata": {
    "_uuid": "31c8bfa0e4d77a1e25d00a9f30edb5e4a310adca"
   },
   "source": [
    "## Conclusion\n",
    "I tried without standardizing the data to get a better accuracy. But after I learnt this method and applied it, it gave a promising result. I am still doing experiments and still learning about data preprocessing techniques. I only used KNN algorithm for this dataset.  \n",
    "Feel free to comment and give an Upvote if you find this kernel helpful.\n"
   ]
  }
 ],
 "metadata": {
  "kernelspec": {
   "display_name": "Python 3 (ipykernel)",
   "language": "python",
   "name": "python3"
  },
  "language_info": {
   "codemirror_mode": {
    "name": "ipython",
    "version": 3
   },
   "file_extension": ".py",
   "mimetype": "text/x-python",
   "name": "python",
   "nbconvert_exporter": "python",
   "pygments_lexer": "ipython3",
   "version": "3.9.12"
  },
  "toc": {
   "base_numbering": 1,
   "nav_menu": {},
   "number_sections": true,
   "sideBar": true,
   "skip_h1_title": false,
   "title_cell": "Table of Contents",
   "title_sidebar": "Contents",
   "toc_cell": false,
   "toc_position": {
    "height": "calc(100% - 180px)",
    "left": "10px",
    "top": "150px",
    "width": "400px"
   },
   "toc_section_display": true,
   "toc_window_display": true
  }
 },
 "nbformat": 4,
 "nbformat_minor": 1
}
